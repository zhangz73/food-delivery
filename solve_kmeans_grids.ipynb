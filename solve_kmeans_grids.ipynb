{
  "cells": [
    {
      "cell_type": "code",
      "source": [
        "!pip3 install gurobipy"
      ],
      "metadata": {
        "id": "rMO3-OcRftlA"
      },
      "execution_count": null,
      "outputs": []
    },
    {
      "cell_type": "code",
      "source": [
        "from google.colab import drive\n",
        "drive.mount('/content/drive')"
      ],
      "metadata": {
        "id": "G_U0f3sOicjf"
      },
      "execution_count": null,
      "outputs": []
    },
    {
      "cell_type": "code",
      "source": [
        "# # WLS license\n",
        "# params = {\n",
        "\n",
        "# }\n",
        "\n",
        "# # data path\n",
        "# file_path = ''"
      ],
      "metadata": {
        "id": "7DKfrikAqXO_"
      },
      "execution_count": null,
      "outputs": []
    },
    {
      "cell_type": "code",
      "execution_count": null,
      "metadata": {
        "id": "rYrE1uvZrei4"
      },
      "outputs": [],
      "source": [
        "import gurobipy as gp\n",
        "from gurobipy import GRB\n",
        "import pandas as pd\n",
        "import numpy as np\n",
        "import random\n",
        "import math\n",
        "import sys\n",
        "\n",
        "env = gp.Env(params=params)\n",
        "pd.set_option('display.max_columns', None)\n",
        "\n",
        "def dist(x1, y1, x2, y2):\n",
        "    return np.abs(x1 - x2) + np.abs(y1 - y2)\n",
        "\n",
        "def solve_model(w, c, R, beta, N_RESTAURANTS, N_CUSTOMERS, tau, LAMBDA, MU_P, V_MAX, RELOCATION_K, MAX_BATCH, verbose = 0):\n",
        "\n",
        "    model = gp.Model(env = env)\n",
        "    model.setParam(\"NonConvex\", 2)\n",
        "    model.setParam('MIPGap', 1e-2)\n",
        "\n",
        "    # FLOW VARIABLES\n",
        "    lam_f_rcb = model.addMVar((N_RESTAURANTS, N_CUSTOMERS, MAX_BATCH), lb = 0, ub = LAMBDA, vtype = GRB.CONTINUOUS, name = \"lam_f_rcb\")\n",
        "    lam_p_rcb = model.addMVar((N_RESTAURANTS, N_CUSTOMERS, MAX_BATCH), lb = 0, ub = LAMBDA, vtype = GRB.CONTINUOUS, name = \"lam_p_rcb\")\n",
        "\n",
        "    # the customer-restaurant flow is upper bounded by the total order rate from all restaurants to the customer\n",
        "    lam_f_cr = model.addMVar((N_CUSTOMERS, N_RESTAURANTS), lb = 0, ub = np.tile(np.sum(LAMBDA, axis = (0, 2)), (N_RESTAURANTS, 1)).T, vtype = GRB.CONTINUOUS, name = \"lam_f_cr\")\n",
        "    lam_p_cr = model.addMVar((N_CUSTOMERS, N_RESTAURANTS), lb = 0, ub = np.tile(np.sum(LAMBDA, axis = (0, 2)), (N_RESTAURANTS, 1)).T, vtype = GRB.CONTINUOUS, name = \"lam_p_cr\")\n",
        "\n",
        "    mu_p_in  = model.addMVar(N_RESTAURANTS, lb = 0, ub = MU_P, vtype = GRB.CONTINUOUS, name = \"mu_p_in\")\n",
        "    mu_p_out = model.addMVar(N_CUSTOMERS,   lb = 0, ub = MU_P, vtype = GRB.CONTINUOUS, name = \"mu_p_out\")\n",
        "\n",
        "    # VALUES\n",
        "    V_r = model.addMVar(N_RESTAURANTS, lb = R, ub = V_MAX, vtype = GRB.CONTINUOUS, name = \"V_r\")\n",
        "    V_c = model.addMVar(N_CUSTOMERS,   lb = R, ub = V_MAX, vtype = GRB.CONTINUOUS, name = \"V_c\")\n",
        "    V_bar = model.addVar(lb = R, ub = V_MAX, vtype = GRB.CONTINUOUS, name = \"V_bar\")\n",
        "\n",
        "    # AUXILIARY VARIABLE FOR TOTAL COST OF PART-TIME\n",
        "    T = model.addVar(lb = 0, ub = np.sum(2 * tau * LAMBDA * w), vtype = GRB.CONTINUOUS, name = \"T\")\n",
        "\n",
        "    # Flow balance constraints\n",
        "    for i in range(N_RESTAURANTS):\n",
        "        model.addConstr(mu_p_in[i] + gp.quicksum(lam_p_cr[j, i] for j in range(N_CUSTOMERS)) == gp.quicksum(lam_p_rcb[i, j, b] for j in range(N_CUSTOMERS) for b in range(MAX_BATCH)))\n",
        "        model.addConstr(gp.quicksum(lam_f_cr[j, i] for j in range(N_CUSTOMERS)) == gp.quicksum(lam_f_rcb[i, j, b] for j in range(N_CUSTOMERS) for b in range(MAX_BATCH)))\n",
        "\n",
        "    for j in range(N_CUSTOMERS):\n",
        "        model.addConstr(gp.quicksum(lam_p_rcb[i, j, b] for i in range(N_RESTAURANTS) for b in range(MAX_BATCH)) == gp.quicksum(lam_p_cr[j, i] for i in range(N_RESTAURANTS)) + mu_p_out[j])\n",
        "        model.addConstr(gp.quicksum(lam_f_rcb[i, j, b] for i in range(N_RESTAURANTS) for b in range(MAX_BATCH)) == gp.quicksum(lam_f_cr[j, i] for i in range(N_RESTAURANTS)))\n",
        "\n",
        "    for i in range(N_RESTAURANTS):\n",
        "      for j in range(N_CUSTOMERS):\n",
        "        for b in range(MAX_BATCH):\n",
        "            if LAMBDA[i,j,b] > 0:\n",
        "              model.addConstr(lam_f_rcb[i, j, b] + lam_p_rcb[i, j, b] == LAMBDA[i, j, b])\n",
        "            else:\n",
        "              model.addConstr(lam_f_rcb[i, j, b] == 0)\n",
        "              model.addConstr(lam_p_rcb[i, j, b] == 0)\n",
        "\n",
        "    model.addConstr(MU_P >= gp.quicksum(mu_p_in[i] for i in range(N_RESTAURANTS)))\n",
        "\n",
        "    # IC and IR constraints\n",
        "    for i in range(N_RESTAURANTS):\n",
        "        model.addConstr(V_bar >= V_r[i])\n",
        "        model.addConstr(mu_p_in[i] * (V_bar - V_r[i]) == 0)\n",
        "\n",
        "    for j in range(N_CUSTOMERS):\n",
        "        model.addConstr(mu_p_out[j] * (V_c[j] - R) == 0)\n",
        "\n",
        "    for j in range(N_CUSTOMERS):\n",
        "      relocation_restaurants = np.argsort(tau[:,j,0])[:RELOCATION_K]\n",
        "      for i in range(N_RESTAURANTS):\n",
        "            model.addConstr(V_r[i] + c * tau[i, j, 0] - beta ** tau[i, j, 0] * V_c[j] >= 0)\n",
        "            if i in relocation_restaurants:\n",
        "              model.addConstr(V_c[j] + c * tau[i, j, 0] - beta ** tau[i, j, 0] * V_r[i] >= 0)\n",
        "              model.addConstr(lam_p_cr[j, i] * (V_c[j] + c * tau[i, j, 0] - beta ** tau[i, j, 0] * V_r[i]) == 0)\n",
        "            else:\n",
        "              model.addConstr(lam_p_cr[j, i] == 0)\n",
        "\n",
        "    model.addConstr(gp.quicksum(lam_p_rcb[i, j, b] * (V_r[i] + c * tau[i, j, b] - beta ** tau[i, j, b] * V_c[j]) for i in range(N_RESTAURANTS) for j in range(N_CUSTOMERS) for b in range(MAX_BATCH)) == T)\n",
        "\n",
        "    obj_func_1 = gp.quicksum(w * lam_f_rcb[i, j, b] * tau[i, j, b] for i in range(N_RESTAURANTS) for j in range(N_CUSTOMERS) for b in range(MAX_BATCH)) + gp.quicksum(w * lam_f_cr[j, i] * tau[i, j, 0] for i in range(N_RESTAURANTS) for j in range(N_CUSTOMERS))\n",
        "    obj_func_2 = T\n",
        "    model.setObjective(obj_func_1 + obj_func_2, GRB.MINIMIZE)\n",
        "    model.optimize()\n",
        "\n",
        "    results = {\n",
        "        \"obj_val\": model.ObjVal,\n",
        "        \"V_r\": V_r.X,\n",
        "        \"V_c\": V_c.X,\n",
        "        \"V_bar\": V_bar.x,\n",
        "        \"mu_p_in\": mu_p_in.X,\n",
        "        \"mu_p_out\": mu_p_out.X,\n",
        "        \"lam_f_rcb\": lam_f_rcb.X,\n",
        "        \"lam_p_rcb\": lam_p_rcb.X,\n",
        "        \"lam_f_cr\": lam_f_cr.X,\n",
        "        \"lam_p_cr\": lam_p_cr.X,\n",
        "        \"T\": T.x\n",
        "    }\n",
        "\n",
        "    return results"
      ]
    },
    {
      "cell_type": "code",
      "execution_count": null,
      "metadata": {
        "id": "FXI_4Yj9VY-6"
      },
      "outputs": [],
      "source": [
        "# read and process the whole dataset\n",
        "\n",
        "all_waybill = pd.read_csv(file_path)\n",
        "\n",
        "all_waybill['grab_lng'] /= 1e6\n",
        "all_waybill['grab_lat'] /= 1e6\n",
        "all_waybill['sender_lng'] /= 1e6\n",
        "all_waybill['sender_lat'] /= 1e6\n",
        "all_waybill['recipient_lng'] /= 1e6\n",
        "all_waybill['recipient_lat'] /= 1e6\n",
        "\n",
        "all_waybill['grab_x'] = 6371 * 0.767 * np.radians(all_waybill['grab_lng'])\n",
        "all_waybill['grab_y'] = 6371 * np.radians(all_waybill['grab_lat'])\n",
        "all_waybill['sender_x'] = 6371 * 0.767 *  np.radians(all_waybill['sender_lng'])\n",
        "all_waybill['sender_y'] = 6371 * np.radians(all_waybill['sender_lat'])\n",
        "all_waybill['recipient_x'] = 6371 * 0.767 * np.radians(all_waybill['recipient_lng'])\n",
        "all_waybill['recipient_y'] = 6371 * np.radians(all_waybill['recipient_lat'])\n",
        "\n",
        "all_waybill['delivery_distance'] = dist(all_waybill['recipient_x'], all_waybill['recipient_y'], all_waybill['sender_x'], all_waybill['sender_y'])\n",
        "\n",
        "all_waybill['order_push_time_f'] = pd.to_datetime(all_waybill['order_push_time_f'])\n",
        "all_waybill['dispatch_time_f'] = pd.to_datetime(all_waybill['dispatch_time_f'])\n",
        "all_waybill['grab_time_f'] = pd.to_datetime(all_waybill['grab_time_f'])\n",
        "all_waybill['fetch_time_f'] = pd.to_datetime(all_waybill['fetch_time_f'])\n",
        "all_waybill['arrive_time_f'] = pd.to_datetime(all_waybill['arrive_time_f'])\n",
        "\n",
        "all_waybill = all_waybill[~all_waybill['da_id'].isin([6,18])]\n",
        "all_waybill = all_waybill.sort_values([\"order_push_time\"]).reset_index(drop=True)"
      ]
    },
    {
      "cell_type": "code",
      "source": [
        "courier_trajectory = all_waybill[all_waybill['is_courier_grabbed']==1][[\"courier_id\", \"order_id\", \"grab_time_f\", \"fetch_time_f\", \"arrive_time_f\"]]\n",
        "courier_trajectory.columns = [\"courier_id\", \"order_id\", \"time_grab\", \"time_fetch\", \"time_arrive\"]\n",
        "courier_trajectory = pd.wide_to_long(courier_trajectory, [\"time\"], i=[\"courier_id\", \"order_id\"], j=\"action\", sep = \"_\", suffix = \"\\\\D+\").reset_index()\n",
        "courier_trajectory = courier_trajectory.merge(all_waybill[all_waybill['is_courier_grabbed']==1][[\"courier_id\", \"order_id\", \"grab_x\", \"grab_y\", \"sender_x\", \"sender_y\", \"recipient_x\", \"recipient_y\"]], on = [\"courier_id\", \"order_id\"], how = \"inner\")\n",
        "courier_trajectory[\"courier_x\"] = courier_trajectory.apply(lambda x: x[\"grab_x\"] if x[\"action\"] == \"grab\" else x[\"sender_x\"] if x[\"action\"] == \"fetch\" else x[\"recipient_x\"], axis = 1)\n",
        "courier_trajectory[\"courier_y\"] = courier_trajectory.apply(lambda x: x[\"grab_y\"] if x[\"action\"] == \"grab\" else x[\"sender_y\"] if x[\"action\"] == \"fetch\" else x[\"recipient_y\"], axis = 1)\n",
        "courier_trajectory = courier_trajectory[[\"courier_id\", \"order_id\", \"action\", \"time\", \"courier_x\", \"courier_y\"]]\n",
        "courier_trajectory = courier_trajectory.sort_values([\"courier_id\", \"time\"])"
      ],
      "metadata": {
        "id": "03J4vAlzNM6D"
      },
      "execution_count": null,
      "outputs": []
    },
    {
      "cell_type": "code",
      "source": [
        "courier_trajectory['time_diff'] = courier_trajectory['time'].diff()\n",
        "courier_trajectory['courier_diff'] = courier_trajectory['courier_id'].diff()\n",
        "courier_trajectory['distance'] = courier_trajectory['courier_x'].diff().abs() + courier_trajectory['courier_y'].diff().abs()\n",
        "courier_trajectory['speed'] = (courier_trajectory['distance'] / courier_trajectory['time_diff'].dt.total_seconds()) * 3600"
      ],
      "metadata": {
        "id": "aglRDpIwPY34"
      },
      "execution_count": null,
      "outputs": []
    },
    {
      "cell_type": "code",
      "source": [
        "all_poi = all_waybill[['poi_id','da_id']].drop_duplicates().reset_index(drop=True)\n",
        "\n",
        "part_time_da_ids = [0,1,2,4,5,9,12,13,22]\n",
        "full_time_da_ids = [3,7,8,10,11,14,15,16,17,19,20,21]\n",
        "\n",
        "common_poi_ids = set(all_poi[all_poi['da_id'].isin(part_time_da_ids)]['poi_id']).intersection(set(all_poi[all_poi['da_id'].isin(full_time_da_ids)]['poi_id']))\n",
        "full_time_poi_ids = set(all_poi[all_poi['da_id'].isin(full_time_da_ids)]['poi_id']).difference(common_poi_ids)\n",
        "part_time_poi_ids = set(all_poi[all_poi['da_id'].isin(part_time_da_ids)]['poi_id']).difference(common_poi_ids)\n",
        "\n",
        "all_waybill['poi_type'] = all_waybill['poi_id'].apply(lambda x: 'common' if x in common_poi_ids else 'part_time' if x in part_time_poi_ids else 'full_time')"
      ],
      "metadata": {
        "id": "EdVpypt4M4ju"
      },
      "execution_count": null,
      "outputs": []
    },
    {
      "cell_type": "code",
      "execution_count": null,
      "metadata": {
        "id": "0A5CPD3v0pBT"
      },
      "outputs": [],
      "source": [
        "from scipy.spatial import ConvexHull\n",
        "\n",
        "def calibrate_params(MAX_BATCH, BATCH_WINDOW, LAMBDA_CUTOFF = 0.1, BETA_BHH = 0.8943):\n",
        "\n",
        "  # travel speed\n",
        "  travel_speed = np.nanmean(courier_trajectory[(courier_trajectory['time'].dt.time >= START_TIME) &\n",
        "    (courier_trajectory['time'].dt.time <= END_TIME) &\n",
        "    (courier_trajectory['time_diff'] >= pd.Timedelta(minutes = 5)) &\n",
        "    (courier_trajectory['time_diff'] <= pd.Timedelta(hours = HOURS_PER_DAY)) &\n",
        "    (courier_trajectory['courier_diff'] == 0) &\n",
        "    (courier_trajectory['action'] == 'arrive')]['speed'])\n",
        "\n",
        "  print('TRAVEL SPEED:', travel_speed)\n",
        "\n",
        "  # travel time\n",
        "  area_restaurants = np.zeros(N_RESTAURANTS)\n",
        "  area_customers = np.zeros(N_CUSTOMERS)\n",
        "\n",
        "  for i in range(N_RESTAURANTS):\n",
        "    area_restaurants[i] = ConvexHull(np.array(select_restaurants[select_restaurants['sender_cluster']==i][[\"sender_x\", \"sender_y\"]])).area\n",
        "  for j in range(N_CUSTOMERS):\n",
        "    area_customers[j] = ConvexHull(np.array(select_customers[select_customers['recipient_cluster']==j][[\"recipient_x\", \"recipient_y\"]])).area\n",
        "\n",
        "  print('AVG AREA OF RESTAURANTS:', np.mean(area_restaurants))\n",
        "  print('AVG AREA OF CUSTOMERS:', np.mean(area_customers))\n",
        "\n",
        "  tau = np.zeros((N_RESTAURANTS, N_CUSTOMERS, MAX_BATCH))\n",
        "\n",
        "  for i in range(N_RESTAURANTS):\n",
        "    for j in range(N_CUSTOMERS):\n",
        "      tau[i,j,0] = dist(clustering_restaurants.cluster_centers_[i,0], clustering_restaurants.cluster_centers_[i,1], clustering_customers.cluster_centers_[j,0], clustering_customers.cluster_centers_[j,1]) / travel_speed\n",
        "      for b in range(2, MAX_BATCH+1):\n",
        "        tau[i,j,b-1] = tau[i,j,0] + BETA_BHH * np.sqrt(b) * (np.sqrt(area_restaurants[i]) + np.sqrt(area_customers[j])) / travel_speed\n",
        "\n",
        "  # arrival rate\n",
        "  LAMBDA = np.zeros((N_RESTAURANTS, N_CUSTOMERS, MAX_BATCH))\n",
        "\n",
        "  queue_size = np.zeros((N_RESTAURANTS, N_CUSTOMERS), dtype = np.int32)\n",
        "  queue_time = np.zeros((N_RESTAURANTS, N_CUSTOMERS))\n",
        "\n",
        "  for index, row in select_waybill.iterrows():\n",
        "    i = row['sender_cluster']\n",
        "    j = row['recipient_cluster']\n",
        "    current_time = row['order_push_time_f'].day*24 + row['order_push_time_f'].hour + row['order_push_time_f'].minute / 60 + row['order_push_time_f'].second / 3600\n",
        "    if (current_time - queue_time[i,j] > BATCH_WINDOW and queue_size[i,j] > 0) or (queue_size[i,j] == MAX_BATCH):\n",
        "        LAMBDA[i,j, queue_size[i,j] - 1] += 1\n",
        "        queue_size[i,j] = 0\n",
        "\n",
        "    queue_size[i,j] += 1\n",
        "    if (queue_size[i,j] == 1):\n",
        "      queue_time[i,j] = current_time\n",
        "\n",
        "  for i in range(N_RESTAURANTS):\n",
        "    for j in range(N_CUSTOMERS):\n",
        "      if (queue_size[i,j] > 0):\n",
        "        LAMBDA[i,j, queue_size[i,j] - 1] += 1\n",
        "\n",
        "      for b in range(MAX_BATCH):\n",
        "        LAMBDA[i,j,b] /= (HOURS_PER_DAY * TOTAL_DAYS)\n",
        "        if (LAMBDA[i,j,b] < LAMBDA_CUTOFF):\n",
        "          LAMBDA[i,j,b] = 0\n",
        "\n",
        "  print('AVG TAU:', np.sum(tau*LAMBDA)/np.sum(LAMBDA))\n",
        "  for b in range(MAX_BATCH):\n",
        "    print(f'AVG TAU WITH {b+1} ORDER:', np.sum(tau[:,:,b]*LAMBDA[:,:,b])/np.sum(LAMBDA[:,:,b]))\n",
        "\n",
        "  print('TOTAL LAMBDA:', np.sum(LAMBDA))\n",
        "  for b in range(MAX_BATCH):\n",
        "    print(f'TOTAL LAMBDA WITH {b+1} ORDER:', np.sum(LAMBDA[:,:,b]))\n",
        "  print('% ZERO LAMBDA:', np.sum(LAMBDA==0) / np.sum(LAMBDA>=0))\n",
        "\n",
        "  NUM_ORDERS = 0\n",
        "  for b in range(MAX_BATCH):\n",
        "    NUM_ORDERS += (b+1)*np.sum(LAMBDA[:,:,b])*(HOURS_PER_DAY * TOTAL_DAYS)\n",
        "  print('TOTAL ORDERS:', NUM_ORDERS, len(select_waybill))\n",
        "\n",
        "  # MU_P\n",
        "  MU_P = 0\n",
        "\n",
        "  for dt in all_waybill['dt'].unique():\n",
        "    temp_waybill = all_waybill[(all_waybill['dt']==dt)&(all_waybill['is_prebook']==0)&(all_waybill['da_id'].isin(part_time_da_ids))]\n",
        "    MU_P += len(set(temp_waybill[temp_waybill['order_push_time_f'].dt.time <= END_TIME]['courier_id']) - set(temp_waybill[temp_waybill['order_push_time_f'].dt.time < START_TIME]['courier_id']))\n",
        "\n",
        "  MU_P /= (HOURS_PER_DAY * TOTAL_DAYS)\n",
        "\n",
        "  print('MU_P:', MU_P)\n",
        "\n",
        "  return tau, LAMBDA, MU_P"
      ]
    },
    {
      "cell_type": "code",
      "source": [
        "# select and process the peak-hour data\n",
        "\n",
        "from sklearn.cluster import KMeans\n",
        "\n",
        "START_TIME = pd.to_datetime(\"10:30\").time()\n",
        "END_TIME = pd.to_datetime(\"13:00\").time()\n",
        "HOURS_PER_DAY = 2.5\n",
        "TOTAL_DAYS = 8\n",
        "\n",
        "N_RESTAURANTS = 50\n",
        "N_CUSTOMERS = 100\n",
        "\n",
        "MAX_BATCH = 3\n",
        "BATCH_WINDOW = 1/12 #(in hours)\n",
        "\n",
        "select_waybill = all_waybill[(all_waybill['order_push_time_f'].dt.time >= START_TIME) &\n",
        "                             (all_waybill['order_push_time_f'].dt.time <= END_TIME) &\n",
        "                             (all_waybill['is_prebook'] == 0) &\n",
        "                             (all_waybill['is_courier_grabbed'] == 1)].reset_index(drop = True)\n",
        "\n",
        "select_restaurants = select_waybill[['sender_x','sender_y']].drop_duplicates()\n",
        "select_customers = select_waybill[[\"recipient_x\", \"recipient_y\"]].drop_duplicates()\n",
        "\n",
        "clustering_restaurants = KMeans(n_clusters = N_RESTAURANTS, random_state = 0)\n",
        "select_restaurants[\"sender_cluster\"] = clustering_restaurants.fit_predict(np.array(select_restaurants[[\"sender_x\", \"sender_y\"]]))\n",
        "\n",
        "clustering_customers = KMeans(n_clusters = N_CUSTOMERS, random_state = 0)\n",
        "select_customers[\"recipient_cluster\"] = clustering_customers.fit_predict(np.array(select_customers[[\"recipient_x\", \"recipient_y\"]]))\n",
        "\n",
        "select_waybill = select_waybill.merge(select_restaurants, on = [\"sender_x\", \"sender_y\"]).merge(select_customers, on = [\"recipient_x\", \"recipient_y\"])\n",
        "\n",
        "tau, LAMBDA, MU_P = calibrate_params(MAX_BATCH, BATCH_WINDOW, LAMBDA_CUTOFF = 0.1, BETA_BHH = 0.8943)"
      ],
      "metadata": {
        "id": "N0abQ1CygGnX"
      },
      "execution_count": null,
      "outputs": []
    },
    {
      "cell_type": "code",
      "source": [
        "import matplotlib.pyplot as plt\n",
        "\n",
        "plt.figure(figsize=(12, 6))\n",
        "\n",
        "plt.subplot(1, 2, 1)\n",
        "plt.scatter(select_restaurants['sender_x'], select_restaurants['sender_y'], c=select_restaurants['sender_cluster'], s=1)\n",
        "plt.title('Restaurant Clusters')\n",
        "plt.xlabel('Longitude')\n",
        "plt.ylabel('Latitude')\n",
        "plt.xlim(min(min(select_customers['recipient_x']), min(select_restaurants['sender_x'])), max(max(select_customers['recipient_x']), max(select_restaurants['sender_x'])))\n",
        "plt.ylim(min(min(select_customers['recipient_y']), min(select_restaurants['sender_y'])), max(max(select_customers['recipient_y']), max(select_restaurants['sender_y'])))\n",
        "\n",
        "plt.subplot(1, 2, 2)\n",
        "plt.scatter(select_customers['recipient_x'], select_customers['recipient_y'], c=select_customers['recipient_cluster'], s=1)\n",
        "plt.title('Customer Clusters')\n",
        "plt.xlabel('Longitude')\n",
        "plt.ylabel('Latitude')\n",
        "plt.xlim(min(min(select_customers['recipient_x']), min(select_restaurants['sender_x'])), max(max(select_customers['recipient_x']), max(select_restaurants['sender_x'])))\n",
        "plt.ylim(min(min(select_customers['recipient_y']), min(select_restaurants['sender_y'])), max(max(select_customers['recipient_y']), max(select_restaurants['sender_y'])))\n",
        "\n",
        "plt.tight_layout()\n",
        "plt.show()"
      ],
      "metadata": {
        "id": "pDyqQ-g84HG2"
      },
      "execution_count": null,
      "outputs": []
    },
    {
      "cell_type": "code",
      "source": [
        "w = 33.6\n",
        "c = 3\n",
        "beta = 0.9\n",
        "\n",
        "R = 26.43 + 26.43 * beta + 26.43/2 * beta**2\n",
        "\n",
        "results = solve_model(w, c, R, beta, N_RESTAURANTS, N_CUSTOMERS, tau, LAMBDA, MU_P, V_MAX = max(R, w / np.log(1/beta)), RELOCATION_K = 3, MAX_BATCH = MAX_BATCH)"
      ],
      "metadata": {
        "id": "iHRNc6dhekOy"
      },
      "execution_count": null,
      "outputs": []
    },
    {
      "cell_type": "code",
      "source": [
        "print(np.sum(results['lam_f_rcb']), np.sum(results['lam_p_rcb']))"
      ],
      "metadata": {
        "id": "HkhFvWjE6n7s"
      },
      "execution_count": null,
      "outputs": []
    }
  ],
  "metadata": {
    "colab": {
      "provenance": []
    },
    "kernelspec": {
      "display_name": "Python 3 (ipykernel)",
      "language": "python",
      "name": "python3"
    },
    "language_info": {
      "codemirror_mode": {
        "name": "ipython",
        "version": 3
      },
      "file_extension": ".py",
      "mimetype": "text/x-python",
      "name": "python",
      "nbconvert_exporter": "python",
      "pygments_lexer": "ipython3",
      "version": "3.10.14"
    }
  },
  "nbformat": 4,
  "nbformat_minor": 0
}